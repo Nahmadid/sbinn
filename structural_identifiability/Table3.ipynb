{
 "cells": [
  {
   "cell_type": "code",
   "execution_count": 1,
   "id": "99f2834c",
   "metadata": {},
   "outputs": [
    {
     "name": "stdout",
     "output_type": "stream",
     "text": [
      "Singular.jl, based on\n",
      "                     SINGULAR                               /\n",
      " A Computer Algebra System for Polynomial Computations     /  Singular.jl: 0.5.8\n",
      "                                                         0<   Singular   : 4.2.0p1\n",
      " by: W. Decker, G.-M. Greuel, G. Pfister, H. Schoenemann   \\\n",
      "FB Mathematik der Universitaet, D-67653 Kaiserslautern      \\\n",
      "     \n"
     ]
    }
   ],
   "source": [
    "### For first-time users, the StructuralIdentifiability package can be installed by the following command\n",
    "\n",
    "#using Pkg\n",
    "#Pkg.add(\"StructuralIdentifiability\")\n",
    "\n",
    "using StructuralIdentifiability"
   ]
  },
  {
   "cell_type": "code",
   "execution_count": 2,
   "id": "998d3e67",
   "metadata": {},
   "outputs": [
    {
     "name": "stderr",
     "output_type": "stream",
     "text": [
      "┌ Info: Summary of the model:\n",
      "└ @ StructuralIdentifiability /Users/zen/.julia/packages/StructuralIdentifiability/EQH60/src/ODE.jl:303\n",
      "┌ Info: State variables: h1, G, Ip, h2, h3, g1, g2, g3, Ii, g4\n",
      "└ @ StructuralIdentifiability /Users/zen/.julia/packages/StructuralIdentifiability/EQH60/src/ODE.jl:304\n",
      "┌ Info: Parameters: C2, alpha, Um, C1, Ub, tp, E, Vp, Vg, td, ti, beta, Vi, Rg, U0\n",
      "└ @ StructuralIdentifiability /Users/zen/.julia/packages/StructuralIdentifiability/EQH60/src/ODE.jl:305\n",
      "┌ Info: Inputs: IG\n",
      "└ @ StructuralIdentifiability /Users/zen/.julia/packages/StructuralIdentifiability/EQH60/src/ODE.jl:306\n",
      "┌ Info: Outputs: y\n",
      "└ @ StructuralIdentifiability /Users/zen/.julia/packages/StructuralIdentifiability/EQH60/src/ODE.jl:307\n"
     ]
    },
    {
     "data": {
      "text/plain": [
       "h1'(t) = (-h1(t) + Ip(t))//td\n",
       "Ii'(t) = (Ip(t)*E*ti*Vi - Ii(t)*E*Vp*ti - Ii(t)*Vp*Vi)//(Vp*ti*Vi)\n",
       "g2'(t) = (-IG(t)*g3(t)*g2(t)*Vg*g4(t) + IG(t)*g3(t)*Vg*g4(t) + 1//100*Um*g2(t)*g4(t)*G(t) - 1//100*Um*g4(t)*G(t) + g3(t)*Ub*g2(t)^2*Vg*g4(t) - g3(t)*Ub*g2(t)*Vg*g4(t) - g3(t)*g2(t)*Vg*Rg + 1//100*g3(t)*g2(t)*g4(t)*G(t)*U0 + g3(t)*Vg*Rg - 1//100*g3(t)*g4(t)*G(t)*U0)//(C2*g3(t)*Vg^2*g4(t))\n",
       "G'(t) = (IG(t)*g3(t)*Vg*g4(t) - 1//100*Um*g4(t)*G(t) - g3(t)*Ub*g2(t)*Vg*g4(t) + g3(t)*Vg*Rg - 1//100*g3(t)*g4(t)*G(t)*U0)//(g3(t)*Vg*g4(t))\n",
       "h3'(t) = (-h3(t) + h2(t))//td\n",
       "g1'(t) = (-IG(t)*g3(t)*Vg*g1(t)*g4(t) + IG(t)*g3(t)*Vg*g4(t) + 1//100*Um*g1(t)*g4(t)*G(t) - 1//100*Um*g4(t)*G(t) + g3(t)*Ub*g2(t)*Vg*g1(t)*g4(t) - g3(t)*Ub*g2(t)*Vg*g4(t) - g3(t)*Vg*g1(t)*Rg + g3(t)*Vg*Rg + 1//100*g3(t)*g1(t)*g4(t)*G(t)*U0 - 1//100*g3(t)*g4(t)*G(t)*U0)//(C1*g3(t)*Vg^2*g4(t))\n",
       "h2'(t) = (h1(t) - h2(t))//td\n",
       "g3'(t) = (-g3(t)*Ip(t)*E*ti*beta*Vi + g3(t)*Ii(t)*E*Vp*ti*beta + g3(t)*Ii(t)*Vp*beta*Vi + Ip(t)*E*ti*beta*Vi - Ii(t)*E*Vp*ti*beta - Ii(t)*Vp*beta*Vi)//(Ii(t)*Vp*ti*Vi)\n",
       "g4'(t) = (-1//26*alpha*h3(t)*g4(t) + 1//26*alpha*h3(t) + 1//26*alpha*g4(t)*h2(t) - 1//26*alpha*h2(t))//(Vp*td)\n",
       "Ip'(t) = (-Ip(t)*tp*E*g1(t)*Vi - Ip(t)*Vp*g1(t)*Vi + tp*Ii(t)*E*Vp*g1(t) + 209*tp*Vp*Vi)//(tp*Vp*g1(t)*Vi)\n",
       "y(t) = G(t)\n"
      ]
     },
     "execution_count": 2,
     "metadata": {},
     "output_type": "execute_result"
    }
   ],
   "source": [
    "# Table 3, infer all parameters case\n",
    "ode = @ODEmodel(\n",
    "    Ip'(t) = 209 / g1(t) - E * (Ip(t) / Vp - Ii(t) / Vi) - Ip(t) / tp,\n",
    "    Ii'(t) = E * (Ip(t) / Vp - Ii(t) / Vi) - Ii(t) / ti,\n",
    "    G'(t) = Rg / g4(t) + IG(t) - Ub * g2(t) - (U0 + Um / g3(t)) / Vg / 100 * G(t),\n",
    "    h1'(t) = (Ip(t) - h1(t)) / td,\n",
    "    h2'(t) = (h1(t) - h2(t)) / td,\n",
    "    h3'(t) = (h2(t) - h3(t)) / td,\n",
    "    g1'(t) = -(g1(t)-1)/Vg/C1*(Rg / g4(t) + IG(t) - Ub * g2(t) - (U0 + Um / g3(t)) / Vg / 100 * G(t)),\n",
    "    g2'(t) = -(g2(t)-1)/Vg/C2*(Rg / g4(t) + IG(t) - Ub * g2(t) - (U0 + Um / g3(t)) / Vg / 100 * G(t)),\n",
    "    g3'(t) = -beta*(g3(t)-1)/Ii(t)*(E * (Ip(t) / Vp - Ii(t) / Vi) - Ii(t) / ti),\n",
    "    g4'(t) = alpha / 26 / Vp * (g4(t)-1) * (h2(t) - h3(t)) / td,\n",
    "    y(t) = G(t)\n",
    ")"
   ]
  },
  {
   "cell_type": "code",
   "execution_count": 3,
   "id": "53302d9c",
   "metadata": {},
   "outputs": [
    {
     "name": "stderr",
     "output_type": "stream",
     "text": [
      "┌ Info: Summary of the model:\n",
      "└ @ StructuralIdentifiability /Users/zen/.julia/packages/StructuralIdentifiability/EQH60/src/ODE.jl:303\n",
      "┌ Info: State variables: h1, G, Ip, h2, h3, g1, g2, g3, Ii, g4\n",
      "└ @ StructuralIdentifiability /Users/zen/.julia/packages/StructuralIdentifiability/EQH60/src/ODE.jl:304\n",
      "┌ Info: Parameters: C2, alpha, Um, C1, Ub, tp, E, Vg, td, ti, beta, Vi, Rg, U0\n",
      "└ @ StructuralIdentifiability /Users/zen/.julia/packages/StructuralIdentifiability/EQH60/src/ODE.jl:305\n",
      "┌ Info: Inputs: IG\n",
      "└ @ StructuralIdentifiability /Users/zen/.julia/packages/StructuralIdentifiability/EQH60/src/ODE.jl:306\n",
      "┌ Info: Outputs: y\n",
      "└ @ StructuralIdentifiability /Users/zen/.julia/packages/StructuralIdentifiability/EQH60/src/ODE.jl:307\n"
     ]
    },
    {
     "data": {
      "text/plain": [
       "g4'(t) = (-1//78*alpha*h3(t)*g4(t) + 1//78*alpha*h3(t) + 1//78*alpha*g4(t)*h2(t) - 1//78*alpha*h2(t))//td\n",
       "h2'(t) = (h1(t) - h2(t))//td\n",
       "Ip'(t) = (-1//3*Ip(t)*tp*E*g1(t)*Vi - Ip(t)*g1(t)*Vi + tp*Ii(t)*E*g1(t) + 209*tp*Vi)//(tp*g1(t)*Vi)\n",
       "h1'(t) = (-h1(t) + Ip(t))//td\n",
       "Ii'(t) = (1//3*Ip(t)*E*ti*Vi - Ii(t)*E*ti - Ii(t)*Vi)//(ti*Vi)\n",
       "g1'(t) = (-IG(t)*g3(t)*Vg*g1(t)*g4(t) + IG(t)*g3(t)*Vg*g4(t) + 1//100*Um*g1(t)*g4(t)*G(t) - 1//100*Um*g4(t)*G(t) + g3(t)*Ub*g2(t)*Vg*g1(t)*g4(t) - g3(t)*Ub*g2(t)*Vg*g4(t) - g3(t)*Vg*g1(t)*Rg + g3(t)*Vg*Rg + 1//100*g3(t)*g1(t)*g4(t)*G(t)*U0 - 1//100*g3(t)*g4(t)*G(t)*U0)//(C1*g3(t)*Vg^2*g4(t))\n",
       "g2'(t) = (-IG(t)*g3(t)*g2(t)*Vg*g4(t) + IG(t)*g3(t)*Vg*g4(t) + 1//100*Um*g2(t)*g4(t)*G(t) - 1//100*Um*g4(t)*G(t) + g3(t)*Ub*g2(t)^2*Vg*g4(t) - g3(t)*Ub*g2(t)*Vg*g4(t) - g3(t)*g2(t)*Vg*Rg + 1//100*g3(t)*g2(t)*g4(t)*G(t)*U0 + g3(t)*Vg*Rg - 1//100*g3(t)*g4(t)*G(t)*U0)//(C2*g3(t)*Vg^2*g4(t))\n",
       "G'(t) = (IG(t)*g3(t)*Vg*g4(t) - 1//100*Um*g4(t)*G(t) - g3(t)*Ub*g2(t)*Vg*g4(t) + g3(t)*Vg*Rg - 1//100*g3(t)*g4(t)*G(t)*U0)//(g3(t)*Vg*g4(t))\n",
       "h3'(t) = (-h3(t) + h2(t))//td\n",
       "g3'(t) = (-1//3*g3(t)*Ip(t)*E*ti*beta*Vi + g3(t)*Ii(t)*E*ti*beta + g3(t)*Ii(t)*beta*Vi + 1//3*Ip(t)*E*ti*beta*Vi - Ii(t)*E*ti*beta - Ii(t)*beta*Vi)//(Ii(t)*ti*Vi)\n",
       "y(t) = G(t)\n"
      ]
     },
     "execution_count": 3,
     "metadata": {},
     "output_type": "execute_result"
    }
   ],
   "source": [
    "# Table 3, fix V_p \n",
    "ode2 = @ODEmodel(\n",
    "    Ip'(t) = 209 / g1(t) - E * (Ip(t) / 3 - Ii(t) / Vi) - Ip(t) / tp,\n",
    "    Ii'(t) = E * (Ip(t) / 3 - Ii(t) / Vi) - Ii(t) / ti,\n",
    "    G'(t) = Rg / g4(t) + IG(t) - Ub * g2(t) - (U0 + Um / g3(t)) / Vg / 100 * G(t),\n",
    "    h1'(t) = (Ip(t) - h1(t)) / td,\n",
    "    h2'(t) = (h1(t) - h2(t)) / td,\n",
    "    h3'(t) = (h2(t) - h3(t)) / td,\n",
    "    g1'(t) = -(g1(t)-1)/Vg/C1*(Rg / g4(t) + IG(t) - Ub * g2(t) - (U0 + Um / g3(t)) / Vg / 100 * G(t)),\n",
    "    g2'(t) = -(g2(t)-1)/Vg/C2*(Rg / g4(t) + IG(t) - Ub * g2(t) - (U0 + Um / g3(t)) / Vg / 100 * G(t)),\n",
    "    g3'(t) = -beta*(g3(t)-1)/Ii(t)*(E * (Ip(t) / 3 - Ii(t) / Vi) - Ii(t) / ti),\n",
    "    g4'(t) = alpha / 26 / 3 * (g4(t)-1) * (h2(t) - h3(t)) / td,\n",
    "    y(t) = G(t)\n",
    ")"
   ]
  },
  {
   "cell_type": "code",
   "execution_count": 4,
   "id": "dfd01634",
   "metadata": {},
   "outputs": [
    {
     "name": "stderr",
     "output_type": "stream",
     "text": [
      "┌ Info: Summary of the model:\n",
      "└ @ StructuralIdentifiability /Users/zen/.julia/packages/StructuralIdentifiability/EQH60/src/ODE.jl:303\n",
      "┌ Info: State variables: h1, G, Ip, h2, h3, g1, g2, g3, Ii, g4\n",
      "└ @ StructuralIdentifiability /Users/zen/.julia/packages/StructuralIdentifiability/EQH60/src/ODE.jl:304\n",
      "┌ Info: Parameters: C2, alpha, Um, C1, Ub, tp, E, Vg, td, ti, beta, Rg, U0\n",
      "└ @ StructuralIdentifiability /Users/zen/.julia/packages/StructuralIdentifiability/EQH60/src/ODE.jl:305\n",
      "┌ Info: Inputs: IG\n",
      "└ @ StructuralIdentifiability /Users/zen/.julia/packages/StructuralIdentifiability/EQH60/src/ODE.jl:306\n",
      "┌ Info: Outputs: y\n",
      "└ @ StructuralIdentifiability /Users/zen/.julia/packages/StructuralIdentifiability/EQH60/src/ODE.jl:307\n"
     ]
    },
    {
     "data": {
      "text/plain": [
       "Ip'(t) = (-1//3*Ip(t)*tp*E*g1(t) - Ip(t)*g1(t) + 1//11*tp*Ii(t)*E*g1(t) + 209*tp)//(tp*g1(t))\n",
       "Ii'(t) = (1//3*Ip(t)*E*ti - 1//11*Ii(t)*E*ti - Ii(t))//ti\n",
       "h1'(t) = (-h1(t) + Ip(t))//td\n",
       "g1'(t) = (-IG(t)*g3(t)*Vg*g1(t)*g4(t) + IG(t)*g3(t)*Vg*g4(t) + 1//100*Um*g1(t)*g4(t)*G(t) - 1//100*Um*g4(t)*G(t) + g3(t)*Ub*g2(t)*Vg*g1(t)*g4(t) - g3(t)*Ub*g2(t)*Vg*g4(t) - g3(t)*Vg*g1(t)*Rg + g3(t)*Vg*Rg + 1//100*g3(t)*g1(t)*g4(t)*G(t)*U0 - 1//100*g3(t)*g4(t)*G(t)*U0)//(C1*g3(t)*Vg^2*g4(t))\n",
       "g2'(t) = (-IG(t)*g3(t)*g2(t)*Vg*g4(t) + IG(t)*g3(t)*Vg*g4(t) + 1//100*Um*g2(t)*g4(t)*G(t) - 1//100*Um*g4(t)*G(t) + g3(t)*Ub*g2(t)^2*Vg*g4(t) - g3(t)*Ub*g2(t)*Vg*g4(t) - g3(t)*g2(t)*Vg*Rg + 1//100*g3(t)*g2(t)*g4(t)*G(t)*U0 + g3(t)*Vg*Rg - 1//100*g3(t)*g4(t)*G(t)*U0)//(C2*g3(t)*Vg^2*g4(t))\n",
       "G'(t) = (IG(t)*g3(t)*Vg*g4(t) - 1//100*Um*g4(t)*G(t) - g3(t)*Ub*g2(t)*Vg*g4(t) + g3(t)*Vg*Rg - 1//100*g3(t)*g4(t)*G(t)*U0)//(g3(t)*Vg*g4(t))\n",
       "h2'(t) = (h1(t) - h2(t))//td\n",
       "h3'(t) = (-h3(t) + h2(t))//td\n",
       "g3'(t) = (-1//3*g3(t)*Ip(t)*E*ti*beta + 1//11*g3(t)*Ii(t)*E*ti*beta + g3(t)*Ii(t)*beta + 1//3*Ip(t)*E*ti*beta - 1//11*Ii(t)*E*ti*beta - Ii(t)*beta)//(Ii(t)*ti)\n",
       "g4'(t) = (-1//78*alpha*h3(t)*g4(t) + 1//78*alpha*h3(t) + 1//78*alpha*g4(t)*h2(t) - 1//78*alpha*h2(t))//td\n",
       "y(t) = G(t)\n"
      ]
     },
     "execution_count": 4,
     "metadata": {},
     "output_type": "execute_result"
    }
   ],
   "source": [
    "# Table 3, fix V_p, V_i\n",
    "ode3 = @ODEmodel(\n",
    "    Ip'(t) = 209 / g1(t) - E * (Ip(t) / 3 - Ii(t) / 11) - Ip(t) / tp,\n",
    "    Ii'(t) = E * (Ip(t) / 3 - Ii(t) / 11) - Ii(t) / ti,\n",
    "    G'(t) = Rg / g4(t) + IG(t) - Ub * g2(t) - (U0 + Um / g3(t)) / Vg / 100 * G(t),\n",
    "    h1'(t) = (Ip(t) - h1(t)) / td,\n",
    "    h2'(t) = (h1(t) - h2(t)) / td,\n",
    "    h3'(t) = (h2(t) - h3(t)) / td,\n",
    "    g1'(t) = -(g1(t)-1)/Vg/C1*(Rg / g4(t) + IG(t) - Ub * g2(t) - (U0 + Um / g3(t)) / Vg / 100 * G(t)),\n",
    "    g2'(t) = -(g2(t)-1)/Vg/C2*(Rg / g4(t) + IG(t) - Ub * g2(t) - (U0 + Um / g3(t)) / Vg / 100 * G(t)),\n",
    "    g3'(t) = -beta*(g3(t)-1)/Ii(t)*(E * (Ip(t) / 3 - Ii(t) / 11) - Ii(t) / ti),\n",
    "    g4'(t) = alpha / 26 / 3 * (g4(t)-1) * (h2(t) - h3(t)) / td,\n",
    "    y(t) = G(t)\n",
    ")"
   ]
  },
  {
   "cell_type": "code",
   "execution_count": 5,
   "id": "770218f9",
   "metadata": {},
   "outputs": [
    {
     "name": "stderr",
     "output_type": "stream",
     "text": [
      "┌ Info: Summary of the model:\n",
      "└ @ StructuralIdentifiability /Users/zen/.julia/packages/StructuralIdentifiability/EQH60/src/ODE.jl:303\n",
      "┌ Info: State variables: h1, G, Ip, h2, h3, g1, g2, g3, Ii, g4\n",
      "└ @ StructuralIdentifiability /Users/zen/.julia/packages/StructuralIdentifiability/EQH60/src/ODE.jl:304\n",
      "┌ Info: Parameters: C2, alpha, Um, C1, Ub, tp, E, td, ti, beta, Rg, U0\n",
      "└ @ StructuralIdentifiability /Users/zen/.julia/packages/StructuralIdentifiability/EQH60/src/ODE.jl:305\n",
      "┌ Info: Inputs: IG\n",
      "└ @ StructuralIdentifiability /Users/zen/.julia/packages/StructuralIdentifiability/EQH60/src/ODE.jl:306\n",
      "┌ Info: Outputs: y\n",
      "└ @ StructuralIdentifiability /Users/zen/.julia/packages/StructuralIdentifiability/EQH60/src/ODE.jl:307\n"
     ]
    },
    {
     "data": {
      "text/plain": [
       "Ii'(t) = (1//3*Ip(t)*E*ti - 1//11*Ii(t)*E*ti - Ii(t))//ti\n",
       "h1'(t) = (-h1(t) + Ip(t))//td\n",
       "g2'(t) = (-1//10*IG(t)*g3(t)*g2(t)*g4(t) + 1//10*IG(t)*g3(t)*g4(t) + 1//10000*Um*g2(t)*g4(t)*G(t) - 1//10000*Um*g4(t)*G(t) + 1//10*g3(t)*Ub*g2(t)^2*g4(t) - 1//10*g3(t)*Ub*g2(t)*g4(t) + 1//10000*g3(t)*g2(t)*g4(t)*G(t)*U0 - 1//10*g3(t)*g2(t)*Rg - 1//10000*g3(t)*g4(t)*G(t)*U0 + 1//10*g3(t)*Rg)//(C2*g3(t)*g4(t))\n",
       "g4'(t) = (-1//78*alpha*h3(t)*g4(t) + 1//78*alpha*h3(t) + 1//78*alpha*g4(t)*h2(t) - 1//78*alpha*h2(t))//td\n",
       "G'(t) = (IG(t)*g3(t)*g4(t) - 1//1000*Um*g4(t)*G(t) - g3(t)*Ub*g2(t)*g4(t) - 1//1000*g3(t)*g4(t)*G(t)*U0 + g3(t)*Rg)//(g3(t)*g4(t))\n",
       "h3'(t) = (-h3(t) + h2(t))//td\n",
       "g3'(t) = (-1//3*g3(t)*Ip(t)*E*ti*beta + 1//11*g3(t)*Ii(t)*E*ti*beta + g3(t)*Ii(t)*beta + 1//3*Ip(t)*E*ti*beta - 1//11*Ii(t)*E*ti*beta - Ii(t)*beta)//(Ii(t)*ti)\n",
       "g1'(t) = (-1//10*IG(t)*g3(t)*g1(t)*g4(t) + 1//10*IG(t)*g3(t)*g4(t) + 1//10000*Um*g1(t)*g4(t)*G(t) - 1//10000*Um*g4(t)*G(t) + 1//10*g3(t)*Ub*g2(t)*g1(t)*g4(t) - 1//10*g3(t)*Ub*g2(t)*g4(t) + 1//10000*g3(t)*g1(t)*g4(t)*G(t)*U0 - 1//10*g3(t)*g1(t)*Rg - 1//10000*g3(t)*g4(t)*G(t)*U0 + 1//10*g3(t)*Rg)//(C1*g3(t)*g4(t))\n",
       "Ip'(t) = (-1//3*Ip(t)*tp*E*g1(t) - Ip(t)*g1(t) + 1//11*tp*Ii(t)*E*g1(t) + 209*tp)//(tp*g1(t))\n",
       "h2'(t) = (h1(t) - h2(t))//td\n",
       "y(t) = G(t)\n"
      ]
     },
     "execution_count": 5,
     "metadata": {},
     "output_type": "execute_result"
    }
   ],
   "source": [
    "# Table 3, fix V_p, V_i, V_g\n",
    "ode4 = @ODEmodel(\n",
    "    Ip'(t) = 209 / g1(t) - E * (Ip(t) / 3 - Ii(t) / 11) - Ip(t) / tp,\n",
    "    Ii'(t) = E * (Ip(t) / 3 - Ii(t) / 11) - Ii(t) / ti,\n",
    "    G'(t) = Rg / g4(t) + IG(t) - Ub * g2(t) - (U0 + Um / g3(t)) / 10 / 100 * G(t),\n",
    "    h1'(t) = (Ip(t) - h1(t)) / td,\n",
    "    h2'(t) = (h1(t) - h2(t)) / td,\n",
    "    h3'(t) = (h2(t) - h3(t)) / td,\n",
    "    g1'(t) = -(g1(t)-1)/10/C1*(Rg / g4(t) + IG(t) - Ub * g2(t) - (U0 + Um / g3(t)) / 10 / 100 * G(t)),\n",
    "    g2'(t) = -(g2(t)-1)/10/C2*(Rg / g4(t) + IG(t) - Ub * g2(t) - (U0 + Um / g3(t)) / 10 / 100 * G(t)),\n",
    "    g3'(t) = -beta*(g3(t)-1)/Ii(t)*(E * (Ip(t) / 3 - Ii(t) / 11) - Ii(t) / ti),\n",
    "    g4'(t) = alpha / 26 / 3 * (g4(t)-1) * (h2(t) - h3(t)) / td,\n",
    "    y(t) = G(t)\n",
    ")"
   ]
  },
  {
   "cell_type": "code",
   "execution_count": 6,
   "id": "34e26bd6",
   "metadata": {},
   "outputs": [
    {
     "name": "stdout",
     "output_type": "stream",
     "text": [
      "Dict{Nemo.fmpq_mpoly, Bool}(Ii => 0, h3 => 1, C1 => 0, h2 => 1, U0 => 0, alpha => 0, Um => 0, h1 => 1, E => 0, Vg => 0, Vi => 0, G => 1, beta => 1, g1 => 1, Ip => 1, tp => 0, g3 => 1, Vp => 0, td => 1, g4 => 1, g2 => 1, Ub => 1, C2 => 0, Rg => 1, ti => 0)"
     ]
    }
   ],
   "source": [
    "# Fix C3, C5, Rm\n",
    "print(assess_local_identifiability(ode))"
   ]
  },
  {
   "cell_type": "code",
   "execution_count": 7,
   "id": "730b9fe7",
   "metadata": {},
   "outputs": [
    {
     "name": "stdout",
     "output_type": "stream",
     "text": [
      "Dict{Nemo.fmpq_mpoly, Bool}(g4 => 1, Ip => 1, tp => 0, g3 => 1, Vg => 0, ti => 0, td => 1, g2 => 1, Ub => 1, C2 => 0, h2 => 1, beta => 1, Ii => 0, h3 => 1, C1 => 0, alpha => 1, Um => 0, h1 => 1, g1 => 1, E => 0, U0 => 0, G => 1, Rg => 1, Vi => 0)"
     ]
    }
   ],
   "source": [
    "# Fix C3, C5, Rm, V_p\n",
    "print(assess_local_identifiability(ode2))"
   ]
  },
  {
   "cell_type": "code",
   "execution_count": 8,
   "id": "95849906",
   "metadata": {},
   "outputs": [
    {
     "name": "stdout",
     "output_type": "stream",
     "text": [
      "Dict{Nemo.fmpq_mpoly, Bool}(beta => 1, g2 => 1, Ub => 1, h3 => 1, alpha => 1, Um => 0, Ii => 1, G => 1, C2 => 0, Rg => 1, h2 => 1, C1 => 0, g4 => 1, Ip => 1, U0 => 0, h1 => 1, E => 1, g1 => 1, g3 => 1, td => 1, tp => 1, Vg => 0, ti => 1)"
     ]
    }
   ],
   "source": [
    "# Fix C3, C5, Rm, V_p, V_i\n",
    "print(assess_local_identifiability(ode3))"
   ]
  },
  {
   "cell_type": "code",
   "execution_count": 9,
   "id": "18cf67c7",
   "metadata": {},
   "outputs": [
    {
     "name": "stdout",
     "output_type": "stream",
     "text": [
      "Dict{Nemo.fmpq_mpoly, Bool}(g2 => 1, Ub => 1, C2 => 1, h2 => 1, Ii => 1, h3 => 1, C1 => 1, alpha => 1, Um => 1, h1 => 1, E => 1, g4 => 1, Rg => 1, td => 1, U0 => 1, G => 1, Ip => 1, tp => 1, g3 => 1, beta => 1, g1 => 1, ti => 1)"
     ]
    }
   ],
   "source": [
    "# Fix C3, C5, Rm, V_p, V_i, V_g\n",
    "print(assess_local_identifiability(ode4))"
   ]
  }
 ],
 "metadata": {
  "kernelspec": {
   "display_name": "Julia 1.6.3",
   "language": "julia",
   "name": "julia-1.6"
  },
  "language_info": {
   "file_extension": ".jl",
   "mimetype": "application/julia",
   "name": "julia",
   "version": "1.6.3"
  }
 },
 "nbformat": 4,
 "nbformat_minor": 5
}
